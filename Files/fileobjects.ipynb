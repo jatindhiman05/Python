{
 "cells": [
  {
   "cell_type": "markdown",
   "metadata": {},
   "source": [
    "### File Objects - Reading and Writing to Files"
   ]
  },
  {
   "cell_type": "markdown",
   "metadata": {},
   "source": [
    "Opening Files"
   ]
  },
  {
   "cell_type": "markdown",
   "metadata": {},
   "source": [
    "1st-Method (Not Recommended)"
   ]
  },
  {
   "cell_type": "code",
   "execution_count": 2,
   "metadata": {},
   "outputs": [],
   "source": [
    "f = open('test.txt','r') # by default r"
   ]
  },
  {
   "cell_type": "code",
   "execution_count": 3,
   "metadata": {},
   "outputs": [
    {
     "name": "stdout",
     "output_type": "stream",
     "text": [
      "test.txt\n"
     ]
    }
   ],
   "source": [
    "print(f.name)"
   ]
  },
  {
   "cell_type": "code",
   "execution_count": 6,
   "metadata": {},
   "outputs": [
    {
     "name": "stdout",
     "output_type": "stream",
     "text": [
      "r\n"
     ]
    }
   ],
   "source": [
    "print(f.mode)"
   ]
  },
  {
   "cell_type": "code",
   "execution_count": 7,
   "metadata": {},
   "outputs": [],
   "source": [
    "# Need to explicitly close the file in this method\n",
    "f.close()"
   ]
  },
  {
   "cell_type": "markdown",
   "metadata": {},
   "source": [
    "2nd - Method (Best Practice)"
   ]
  },
  {
   "cell_type": "code",
   "execution_count": 10,
   "metadata": {},
   "outputs": [
    {
     "name": "stdout",
     "output_type": "stream",
     "text": [
      "1. The sun set over the horizon, casting a warm orange glow across the sky.\n",
      "2. Birds chirped merrily as the morning dew glistened on the grass.\n",
      "3. The old library stood silent, its shelves filled with dusty tomes of forgotten knowledge.\n",
      "4. Children laughed and played in the park, their joyous cries echoing in the air.\n",
      "5. A gentle breeze rustled the leaves of the ancient oak tree, whispering secrets of the past.\n",
      "6. The city buzzed with life, its streets teeming with people and cars.\n",
      "7. The aroma of fresh bread wafted from the bakery, enticing passersby.\n",
      "8. The waves crashed against the shore, their rhythmic sound soothing to the soul.\n",
      "9. The moon rose high, bathing the landscape in a soft, silvery light.\n",
      "10. The mountain peak stood tall and majestic, covered in a blanket of pristine snow.\n"
     ]
    }
   ],
   "source": [
    "# automatically file get closed\n",
    "with open('test.txt','r') as f:\n",
    "    f_content = f.read()\n",
    "    print(f_content)"
   ]
  },
  {
   "cell_type": "markdown",
   "metadata": {},
   "source": [
    "Reading  only some of the content from the files "
   ]
  },
  {
   "cell_type": "code",
   "execution_count": 11,
   "metadata": {},
   "outputs": [
    {
     "name": "stdout",
     "output_type": "stream",
     "text": [
      "['1. The sun set over the horizon, casting a warm orange glow across the sky.\\n', '2. Birds chirped merrily as the morning dew glistened on the grass.\\n', '3. The old library stood silent, its shelves filled with dusty tomes of forgotten knowledge.\\n', '4. Children laughed and played in the park, their joyous cries echoing in the air.\\n', '5. A gentle breeze rustled the leaves of the ancient oak tree, whispering secrets of the past.\\n', '6. The city buzzed with life, its streets teeming with people and cars.\\n', '7. The aroma of fresh bread wafted from the bakery, enticing passersby.\\n', '8. The waves crashed against the shore, their rhythmic sound soothing to the soul.\\n', '9. The moon rose high, bathing the landscape in a soft, silvery light.\\n', '10. The mountain peak stood tall and majestic, covered in a blanket of pristine snow.']\n"
     ]
    }
   ],
   "source": [
    "with open('test.txt','r') as f:\n",
    "    f_content = f.readlines()\n",
    "    print(f_content)"
   ]
  },
  {
   "cell_type": "code",
   "execution_count": 12,
   "metadata": {},
   "outputs": [
    {
     "name": "stdout",
     "output_type": "stream",
     "text": [
      "1. The sun set over the horizon, casting a warm orange glow across the sky.\n",
      "\n"
     ]
    }
   ],
   "source": [
    "with open('test.txt','r') as f:\n",
    "    f_content = f.readline()\n",
    "    print(f_content)"
   ]
  },
  {
   "cell_type": "code",
   "execution_count": 13,
   "metadata": {},
   "outputs": [
    {
     "name": "stdout",
     "output_type": "stream",
     "text": [
      "1. The sun set over the horizon, casting a warm orange glow across the sky.\n",
      "2. Birds chirped merrily as the morning dew glistened on the grass.\n"
     ]
    }
   ],
   "source": [
    "with open('test.txt','r') as f:\n",
    "    f_content = f.readline()\n",
    "    print(f_content,end='')\n",
    "\n",
    "    f_content = f.readline()\n",
    "    print(f_content,end='')"
   ]
  },
  {
   "cell_type": "code",
   "execution_count": 14,
   "metadata": {},
   "outputs": [
    {
     "name": "stdout",
     "output_type": "stream",
     "text": [
      "1. The sun set over the horizon, casting a warm orange glow across the sky.\n",
      "2. Birds chirped merrily as the morning dew glistened on the grass.\n",
      "3. The old library stood silent, its shelves filled with dusty tomes of forgotten knowledge.\n",
      "4. Children laughed and played in the park, their joyous cries echoing in the air.\n",
      "5. A gentle breeze rustled the leaves of the ancient oak tree, whispering secrets of the past.\n",
      "6. The city buzzed with life, its streets teeming with people and cars.\n",
      "7. The aroma of fresh bread wafted from the bakery, enticing passersby.\n",
      "8. The waves crashed against the shore, their rhythmic sound soothing to the soul.\n",
      "9. The moon rose high, bathing the landscape in a soft, silvery light.\n",
      "10. The mountain peak stood tall and majestic, covered in a blanket of pristine snow."
     ]
    }
   ],
   "source": [
    "with open('test.txt','r') as f:\n",
    "\n",
    "    for line in f:\n",
    "        print(line,end='')"
   ]
  },
  {
   "cell_type": "code",
   "execution_count": 15,
   "metadata": {},
   "outputs": [
    {
     "name": "stdout",
     "output_type": "stream",
     "text": [
      "1. The sun set over the horizon, casting a warm orange glow across the sky.\n",
      "2. Birds chirped merrily"
     ]
    }
   ],
   "source": [
    "with open('test.txt','r') as f:\n",
    "    \n",
    "    f_content = f.read(100)\n",
    "    print(f_content,end='')"
   ]
  },
  {
   "cell_type": "code",
   "execution_count": 16,
   "metadata": {},
   "outputs": [
    {
     "name": "stdout",
     "output_type": "stream",
     "text": [
      "1. The sun set over the horizon, casting a warm orange glow across the sky.\n",
      "2. Birds chirped merrily as the morning dew glistened on the grass.\n",
      "3. The old library stood silent, its shelves filled with"
     ]
    }
   ],
   "source": [
    "with open('test.txt','r') as f:\n",
    "    \n",
    "    f_content = f.read(100)\n",
    "    print(f_content,end='')\n",
    "\n",
    "    f_content = f.read(100)\n",
    "    print(f_content,end='')"
   ]
  },
  {
   "cell_type": "code",
   "execution_count": 21,
   "metadata": {},
   "outputs": [
    {
     "name": "stdout",
     "output_type": "stream",
     "text": [
      "1. The sun* set over *the horizo*n, casting* a warm or*ange glow *across the* sky.\n",
      "2. B*irds chirp*ed merrily* as the mo*rning dew *glistened *on the gra*ss.\n",
      "3. The* old libra*ry stood s*ilent, its* shelves f*illed with* dusty tom*es of forg*otten know*ledge.\n",
      "4. *Children l*aughed and* played in* the park,* their joy*ous cries *echoing in* the air.\n",
      "*5. A gentl*e breeze r*ustled the* leaves of* the ancie*nt oak tre*e, whisper*ing secret*s of the p*ast.\n",
      "6. Th*e city buz*zed with l*ife, its s*treets tee*ming with *people and* cars.\n",
      "7. *The aroma *of fresh b*read wafte*d from the* bakery, e*nticing pa*ssersby.\n",
      "8*. The wave*s crashed *against th*e shore, t*heir rhyth*mic sound *soothing t*o the soul*.\n",
      "9. The m*oon rose h*igh, bathi*ng the lan*dscape in *a soft, si*lvery ligh*t.\n",
      "10. The* mountain *peak stood* tall and *majestic, *covered in* a blanket* of pristi*ne snow.*"
     ]
    }
   ],
   "source": [
    "with open('test.txt','r') as f:\n",
    "\n",
    "    size_to_read = 10\n",
    "    \n",
    "    f_content = f.read(size_to_read)\n",
    "\n",
    "    while len(f_content) > 0:\n",
    "        print(f_content,end='*')\n",
    "        f_content = f.read(size_to_read)"
   ]
  },
  {
   "cell_type": "code",
   "execution_count": 23,
   "metadata": {},
   "outputs": [
    {
     "name": "stdout",
     "output_type": "stream",
     "text": [
      "10\n"
     ]
    }
   ],
   "source": [
    "#tell \n",
    "with open('test.txt','r') as f:\n",
    "\n",
    "    size_to_read = 10\n",
    "    \n",
    "    f_content = f.read(size_to_read)\n",
    "\n",
    "    print(f.tell())"
   ]
  },
  {
   "cell_type": "code",
   "execution_count": 24,
   "metadata": {},
   "outputs": [],
   "source": [
    "#seek"
   ]
  },
  {
   "cell_type": "code",
   "execution_count": 25,
   "metadata": {},
   "outputs": [
    {
     "name": "stdout",
     "output_type": "stream",
     "text": [
      "1. The sun set over the horizon, casting a warm orange glow across the sky.\n",
      "2. Birds chirped merrily1. The sun set over the horizon, casting a warm orange glow across the sky.\n",
      "2. Birds chirped merrily"
     ]
    }
   ],
   "source": [
    "with open('test.txt','r') as f:\n",
    "\n",
    "    size_to_read = 10\n",
    "    \n",
    "    \n",
    "    f_content = f.read(100)\n",
    "    print(f_content,end='')\n",
    "\n",
    "    f.seek(0) # sets the file pointer to begining\n",
    "\n",
    "    f_content = f.read(100)\n",
    "    print(f_content,end='')"
   ]
  },
  {
   "cell_type": "markdown",
   "metadata": {},
   "source": [
    "Writing to Files"
   ]
  },
  {
   "cell_type": "code",
   "execution_count": 26,
   "metadata": {},
   "outputs": [],
   "source": [
    "with open('test1.txt','w') as f:\n",
    "    f.write('TEST')"
   ]
  },
  {
   "cell_type": "code",
   "execution_count": 27,
   "metadata": {},
   "outputs": [],
   "source": [
    "with open('test1.txt','w') as f:\n",
    "    f.write('TEST')\n",
    "    f.write('TEST')"
   ]
  },
  {
   "cell_type": "code",
   "execution_count": 28,
   "metadata": {},
   "outputs": [],
   "source": [
    "with open('test1.txt','w') as f:\n",
    "    f.write('TEST')\n",
    "    f.seek(0)\n",
    "    f.write('R')"
   ]
  }
 ],
 "metadata": {
  "kernelspec": {
   "display_name": "Python 3",
   "language": "python",
   "name": "python3"
  },
  "language_info": {
   "codemirror_mode": {
    "name": "ipython",
    "version": 3
   },
   "file_extension": ".py",
   "mimetype": "text/x-python",
   "name": "python",
   "nbconvert_exporter": "python",
   "pygments_lexer": "ipython3",
   "version": "3.11.4"
  }
 },
 "nbformat": 4,
 "nbformat_minor": 2
}
