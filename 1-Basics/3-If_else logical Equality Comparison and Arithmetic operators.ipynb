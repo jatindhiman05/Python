{
 "cells": [
  {
   "cell_type": "markdown",
   "id": "b834466b",
   "metadata": {},
   "source": [
    "## CONDITIONAL STATMENT (IF ELSE)\n",
    "\n",
    "```python\n",
    "if condition:\n",
    "    print(\"execute this statement\")\n",
    "else:\n",
    "    print(\"if condition is not True\")\n",
    "```"
   ]
  },
  {
   "cell_type": "code",
   "execution_count": 1,
   "id": "0d685401",
   "metadata": {},
   "outputs": [
    {
     "name": "stdout",
     "output_type": "stream",
     "text": [
      "Lets do work from home\n"
     ]
    }
   ],
   "source": [
    "raining = True\n",
    "if raining:\n",
    "    print(\"Lets do work from home\")\n",
    "else:\n",
    "    print(\"Lets go to the place\")"
   ]
  },
  {
   "cell_type": "markdown",
   "id": "fa526b1b",
   "metadata": {},
   "source": [
    "### use of indentation"
   ]
  },
  {
   "cell_type": "code",
   "execution_count": 4,
   "id": "c6184087",
   "metadata": {},
   "outputs": [
    {
     "ename": "IndentationError",
     "evalue": "expected an indented block after 'if' statement on line 3 (760116736.py, line 4)",
     "output_type": "error",
     "traceback": [
      "\u001b[1;36m  Cell \u001b[1;32mIn[4], line 4\u001b[1;36m\u001b[0m\n\u001b[1;33m    print(\"Lets do work from home\") # This statemen exectuted\u001b[0m\n\u001b[1;37m    ^\u001b[0m\n\u001b[1;31mIndentationError\u001b[0m\u001b[1;31m:\u001b[0m expected an indented block after 'if' statement on line 3\n"
     ]
    }
   ],
   "source": [
    "raining = True\n",
    "\n",
    "if raining:\n",
    "print(\"Lets do work from home\") # This statemen exectuted\n",
    "else:\n",
    "    print(\"Lets go to office\")"
   ]
  },
  {
   "cell_type": "markdown",
   "id": "cda26e75",
   "metadata": {},
   "source": [
    "##  Logical opertors\n"
   ]
  },
  {
   "cell_type": "markdown",
   "id": "fda62bf5",
   "metadata": {},
   "source": [
    "Keywords | Meaning\n",
    "- | -\n",
    "not | unary negation\n",
    "and | conditional AND\n",
    "or | conditional OR"
   ]
  },
  {
   "cell_type": "code",
   "execution_count": 5,
   "id": "28ce213a",
   "metadata": {},
   "outputs": [
    {
     "name": "stdout",
     "output_type": "stream",
     "text": [
      "Since class started...\n",
      "Lets concentrate\n"
     ]
    }
   ],
   "source": [
    "class_started = True\n",
    "\n",
    "if not class_started:\n",
    "    print(\"Since class is not started...\")\n",
    "    print(\"let's revise\")\n",
    "else:\n",
    "    print(\"Since class started...\")\n",
    "    print(\"Lets concentrate\")"
   ]
  },
  {
   "cell_type": "code",
   "execution_count": 6,
   "id": "2461923a",
   "metadata": {},
   "outputs": [
    {
     "name": "stdout",
     "output_type": "stream",
     "text": [
      "Its a bad dish\n",
      "because vegetable present: False\n",
      "and salt present: False\n"
     ]
    }
   ],
   "source": [
    "vegetable_present = False\n",
    "salt_present = False\n",
    "\n",
    "if vegetable_present and salt_present:\n",
    "    print(\"Its a good dish\")\n",
    "else:\n",
    "    print(\"Its a bad dish\")\n",
    "    print(f\"because vegetable present: {vegetable_present}\")\n",
    "    print(f\"and salt present: {salt_present}\")"
   ]
  },
  {
   "cell_type": "code",
   "execution_count": 7,
   "id": "b00d4edd",
   "metadata": {},
   "outputs": [
    {
     "name": "stdout",
     "output_type": "stream",
     "text": [
      "Its a good dish\n"
     ]
    }
   ],
   "source": [
    "vegetable_present = True\n",
    "salt_present = True\n",
    "\n",
    "if vegetable_present and salt_present: # this condition was true as both the sub conditions are true\n",
    "    print(\"Its a good dish\")\n",
    "else:\n",
    "    print(\"Its a bad dish\")\n",
    "    print(f\"because vegetable present: {vegetable_present}\")\n",
    "    print(f\"and salt present: {salt_present}\")"
   ]
  },
  {
   "cell_type": "code",
   "execution_count": 8,
   "id": "dd5944b8",
   "metadata": {},
   "outputs": [
    {
     "name": "stdout",
     "output_type": "stream",
     "text": [
      "I am stuck as I don't have car or bike!\n"
     ]
    }
   ],
   "source": [
    "i_own_car = False\n",
    "i_own_bike = False\n",
    "\n",
    "if i_own_car or i_own_bike:\n",
    "    print(\"I can travel 100 kms in a day!\")\n",
    "else:\n",
    "    print(\"I am stuck as I don't have car or bike!\")\n"
   ]
  },
  {
   "cell_type": "code",
   "execution_count": 9,
   "id": "223d980e",
   "metadata": {},
   "outputs": [
    {
     "name": "stdout",
     "output_type": "stream",
     "text": [
      "I can travel 100 kms in a day!\n"
     ]
    }
   ],
   "source": [
    "i_own_car = False\n",
    "i_own_bike = True\n",
    "\n",
    "if i_own_car or i_own_bike:\n",
    "    print(\"I can travel 100 kms in a day!\")\n",
    "else:\n",
    "    print(\"I am stuck as I don't have car or bike!\")"
   ]
  },
  {
   "cell_type": "markdown",
   "id": "03f92f4e",
   "metadata": {},
   "source": [
    "## Conclusion -\n",
    "1. use AND operator when you want all the condition to be true\n",
    "2. use OR operator if anyone of the condition you want to be true\n"
   ]
  },
  {
   "cell_type": "markdown",
   "id": "5be268b8",
   "metadata": {},
   "source": [
    "## Equality Operators"
   ]
  },
  {
   "cell_type": "markdown",
   "id": "8a468cb8",
   "metadata": {},
   "source": [
    "Operator | uses | Meaning\n",
    "- | - | -\n",
    "is | A is B=> | return True if A and B points to the same object   \n",
    "is not | A is not B | returns True if A and B do not points to the same object\n",
    "== | A == B | A is equal to B\n",
    "!= | A != B | A is not equal to B\n",
    "\n",
    "When using `is` then we are also comparing memory location\n",
    "When using `is not` then we are also comparing memory location\n",
    "\n",
    "== and != is only checking value of the variables [Used more offently or frequently]"
   ]
  },
  {
   "cell_type": "code",
   "execution_count": 12,
   "id": "3b4ce475",
   "metadata": {},
   "outputs": [
    {
     "name": "stdout",
     "output_type": "stream",
     "text": [
      "A and B are same\n"
     ]
    }
   ],
   "source": [
    "A = 1\n",
    "B = 1\n",
    "\n",
    "if A is B:\n",
    "    print(\"A and B are same\")\n",
    "else:\n",
    "    print(\"A and B are not same\")"
   ]
  },
  {
   "cell_type": "code",
   "execution_count": 13,
   "id": "d2bab833",
   "metadata": {},
   "outputs": [
    {
     "data": {
      "text/plain": [
       "140710714970920"
      ]
     },
     "execution_count": 13,
     "metadata": {},
     "output_type": "execute_result"
    }
   ],
   "source": [
    "id(A)"
   ]
  },
  {
   "cell_type": "code",
   "execution_count": 14,
   "id": "0edce2eb",
   "metadata": {},
   "outputs": [
    {
     "data": {
      "text/plain": [
       "140710714970920"
      ]
     },
     "execution_count": 14,
     "metadata": {},
     "output_type": "execute_result"
    }
   ],
   "source": [
    "id(B)"
   ]
  },
  {
   "cell_type": "code",
   "execution_count": 15,
   "id": "477601f1",
   "metadata": {},
   "outputs": [
    {
     "name": "stdout",
     "output_type": "stream",
     "text": [
      "A and B are not same\n"
     ]
    }
   ],
   "source": [
    "A = 1\n",
    "B = 2\n",
    "\n",
    "if A is B:\n",
    "    print(\"A and B are same\")\n",
    "else:\n",
    "    print(\"A and B are not same\")"
   ]
  },
  {
   "cell_type": "code",
   "execution_count": 16,
   "id": "f78c458c",
   "metadata": {},
   "outputs": [
    {
     "name": "stdout",
     "output_type": "stream",
     "text": [
      "A and B are same\n"
     ]
    }
   ],
   "source": [
    "A = 1\n",
    "B = 1\n",
    "\n",
    "if A == B: # A and B are having same value\n",
    "    print(\"A and B are same\")\n",
    "else:\n",
    "    print(\"A and B are not same\")"
   ]
  },
  {
   "cell_type": "code",
   "execution_count": 17,
   "id": "709a0f66",
   "metadata": {},
   "outputs": [
    {
     "name": "stdout",
     "output_type": "stream",
     "text": [
      "A and B are not same\n"
     ]
    }
   ],
   "source": [
    "A = 1\n",
    "B = 2\n",
    "\n",
    "if A != B:\n",
    "    print(\"A and B are not same\")\n",
    "else:\n",
    "    print(\"A and B are same\")"
   ]
  },
  {
   "cell_type": "markdown",
   "id": "812c1a91",
   "metadata": {},
   "source": [
    "## Comparison Operators"
   ]
  },
  {
   "cell_type": "markdown",
   "id": "0876a9b2",
   "metadata": {},
   "source": [
    "Operation | Meaning\n",
    "- | -\n",
    "< | A < B\n",
    "<= | A <= B\n",
    ".>| A > B\n",
    ".>= | A >= B"
   ]
  },
  {
   "cell_type": "code",
   "execution_count": 19,
   "id": "6d57ebbb",
   "metadata": {},
   "outputs": [
    {
     "name": "stdout",
     "output_type": "stream",
     "text": [
      "attendence criteria met? : True\n",
      "assignment criteria met? : True\n",
      "The student is eligible to appear in final exam\n"
     ]
    }
   ],
   "source": [
    "attendance = 75\n",
    "assignment_submitted = 70\n",
    "\n",
    "print(f\"attendence criteria met? : {attendance >= 75}\")\n",
    "print(f\"assignment criteria met? : {assignment_submitted >= 70}\")\n",
    "\n",
    "if attendance >= 75 and assignment_submitted >= 70:\n",
    "    print(\"The student is eligible to appear in final exam\")\n",
    "else:\n",
    "    print(\"The student is not eligible\")"
   ]
  },
  {
   "cell_type": "markdown",
   "id": "cdd2bf0e",
   "metadata": {},
   "source": [
    "### Arithmetic Operators\n",
    "\n",
    "|Operation|Meaning|\n",
    "|:-:|:-:|\n",
    "| **+** |addition|\n",
    "| **-** |subtraction|\n",
    "| **\\*** |multiplication|\n",
    "| **/** |true division|\n",
    "| **//** |integer division|\n",
    "| **%** |the modulo operator|"
   ]
  },
  {
   "cell_type": "code",
   "execution_count": 20,
   "id": "5efbbecc",
   "metadata": {},
   "outputs": [
    {
     "data": {
      "text/plain": [
       "45"
      ]
     },
     "execution_count": 20,
     "metadata": {},
     "output_type": "execute_result"
    }
   ],
   "source": [
    "A = 22\n",
    "B = 23\n",
    "\n",
    "A + B"
   ]
  },
  {
   "cell_type": "code",
   "execution_count": 21,
   "id": "b17cb487",
   "metadata": {},
   "outputs": [
    {
     "data": {
      "text/plain": [
       "-1"
      ]
     },
     "execution_count": 21,
     "metadata": {},
     "output_type": "execute_result"
    }
   ],
   "source": [
    "A - B "
   ]
  },
  {
   "cell_type": "code",
   "execution_count": 22,
   "id": "fc3690aa",
   "metadata": {},
   "outputs": [
    {
     "data": {
      "text/plain": [
       "0.9565217391304348"
      ]
     },
     "execution_count": 22,
     "metadata": {},
     "output_type": "execute_result"
    }
   ],
   "source": [
    "A / B"
   ]
  },
  {
   "cell_type": "code",
   "execution_count": 23,
   "id": "eafbdfc6",
   "metadata": {},
   "outputs": [
    {
     "data": {
      "text/plain": [
       "0"
      ]
     },
     "execution_count": 23,
     "metadata": {},
     "output_type": "execute_result"
    }
   ],
   "source": [
    "A // B"
   ]
  },
  {
   "cell_type": "code",
   "execution_count": 25,
   "id": "0c624e30",
   "metadata": {},
   "outputs": [
    {
     "data": {
      "text/plain": [
       "2"
      ]
     },
     "execution_count": 25,
     "metadata": {},
     "output_type": "execute_result"
    }
   ],
   "source": [
    "A = 5 \n",
    "B = 2\n",
    "\n",
    "A // B"
   ]
  },
  {
   "cell_type": "code",
   "execution_count": 26,
   "id": "42a31234",
   "metadata": {},
   "outputs": [
    {
     "data": {
      "text/plain": [
       "1"
      ]
     },
     "execution_count": 26,
     "metadata": {},
     "output_type": "execute_result"
    }
   ],
   "source": [
    "A % B"
   ]
  },
  {
   "cell_type": "code",
   "execution_count": 28,
   "id": "7aeb0cc0",
   "metadata": {},
   "outputs": [
    {
     "name": "stdout",
     "output_type": "stream",
     "text": [
      "A: 55 is NOT divisible by B: 2\n"
     ]
    }
   ],
   "source": [
    "A = 55\n",
    "B = 2\n",
    "\n",
    "if A%B == 0:\n",
    "    print(f\"A: {A} is divisible by B: {B}\")\n",
    "else:\n",
    "    print(f\"A: {A} is NOT divisible by B: {B}\")"
   ]
  },
  {
   "cell_type": "code",
   "execution_count": null,
   "id": "70a93c26",
   "metadata": {},
   "outputs": [],
   "source": []
  }
 ],
 "metadata": {
  "kernelspec": {
   "display_name": "Python 3 (ipykernel)",
   "language": "python",
   "name": "python3"
  },
  "language_info": {
   "codemirror_mode": {
    "name": "ipython",
    "version": 3
   },
   "file_extension": ".py",
   "mimetype": "text/x-python",
   "name": "python",
   "nbconvert_exporter": "python",
   "pygments_lexer": "ipython3",
   "version": "3.11.4"
  }
 },
 "nbformat": 4,
 "nbformat_minor": 5
}
