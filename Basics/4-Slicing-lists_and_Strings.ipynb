{
 "cells": [
  {
   "cell_type": "markdown",
   "id": "d13c0041",
   "metadata": {},
   "source": [
    "## SLICING LISTS"
   ]
  },
  {
   "cell_type": "code",
   "execution_count": null,
   "id": "a12438cd",
   "metadata": {},
   "outputs": [],
   "source": [
    "my_list = [0, 1, 2, 3, 4, 5, 6, 7, 8, 9]\n",
    "#          0, 1, 2, 3, 4, 5, 6, 7, 8, 9  \n",
    "#        -10,-9,-8,-7,-6,-5,-4,-3,-2,-1   => negative indices\n",
    "\n",
    "# list[start:end:step]"
   ]
  },
  {
   "cell_type": "code",
   "execution_count": 2,
   "id": "4f78d022-b0a8-4b8d-89d8-13403c44ad2c",
   "metadata": {},
   "outputs": [
    {
     "name": "stdout",
     "output_type": "stream",
     "text": [
      "[0, 1, 2, 3, 4, 5, 6, 7, 8, 9]\n"
     ]
    }
   ],
   "source": [
    "print(my_list)"
   ]
  },
  {
   "cell_type": "markdown",
   "id": "ae3275b4-128e-461f-aa3f-82798c88aac4",
   "metadata": {},
   "source": [
    "**How to Extract Individual Elements from list ?** "
   ]
  },
  {
   "cell_type": "code",
   "execution_count": 4,
   "id": "d2fe6d93-ba39-416a-aee8-540ffd1e46cc",
   "metadata": {},
   "outputs": [
    {
     "name": "stdout",
     "output_type": "stream",
     "text": [
      "4\n"
     ]
    }
   ],
   "source": [
    "print(my_list[4])"
   ]
  },
  {
   "cell_type": "code",
   "execution_count": 5,
   "id": "f2c87143-e96d-4069-808a-3c59377ec5fe",
   "metadata": {},
   "outputs": [
    {
     "name": "stdout",
     "output_type": "stream",
     "text": [
      "7\n"
     ]
    }
   ],
   "source": [
    "print(my_list[-3])"
   ]
  },
  {
   "cell_type": "markdown",
   "id": "fbf7ed4e-741e-4f96-9911-2f8a24780f6a",
   "metadata": {},
   "source": [
    "**How to extract a range of numbers from list ?**"
   ]
  },
  {
   "cell_type": "markdown",
   "id": "8b7c8ab5-78a7-4c1d-b41e-4188e775382d",
   "metadata": {},
   "source": [
    "list[start: end: step]"
   ]
  },
  {
   "cell_type": "code",
   "execution_count": 6,
   "id": "bba24d69-2630-4f91-88af-03538848826f",
   "metadata": {},
   "outputs": [
    {
     "name": "stdout",
     "output_type": "stream",
     "text": [
      "[0, 1, 2, 3, 4, 5]\n"
     ]
    }
   ],
   "source": [
    "print(my_list[0:6]) # end idx is non inclusive"
   ]
  },
  {
   "cell_type": "code",
   "execution_count": 4,
   "id": "aab9916f-6cc7-42b1-8345-896c3eabb173",
   "metadata": {},
   "outputs": [
    {
     "name": "stdout",
     "output_type": "stream",
     "text": [
      "[3, 4, 5, 6, 7]\n",
      "[3, 4, 5, 6, 7]\n",
      "[3, 4, 5, 6, 7]\n"
     ]
    }
   ],
   "source": [
    "print(my_list[3:8]) \n",
    "\n",
    "print(my_list[-7:-2]) \n",
    "\n",
    "# can use -ve idx with +ve  also\n",
    "print(my_list[-7:8])"
   ]
  },
  {
   "cell_type": "code",
   "execution_count": 5,
   "id": "f4cf16eb-cdcd-4c30-bd90-136750c42d6c",
   "metadata": {},
   "outputs": [
    {
     "name": "stdout",
     "output_type": "stream",
     "text": [
      "[0, 1, 2, 3, 4, 5, 6, 7, 8, 9]\n"
     ]
    }
   ],
   "source": [
    "print(my_list[0:]) # it assumes we are gonna go till the very end "
   ]
  },
  {
   "cell_type": "code",
   "execution_count": 9,
   "id": "b8ada002",
   "metadata": {},
   "outputs": [
    {
     "name": "stdout",
     "output_type": "stream",
     "text": [
      "[0, 1, 2, 3, 4, 5, 6, 7, 8]\n"
     ]
    }
   ],
   "source": [
    "#similarly\n",
    "print(my_list[:-1])\n"
   ]
  },
  {
   "cell_type": "markdown",
   "id": "37b23bd6",
   "metadata": {},
   "source": [
    "Steps Allows us to skip a certain number of values"
   ]
  },
  {
   "cell_type": "code",
   "execution_count": 11,
   "id": "ad1752d1",
   "metadata": {},
   "outputs": [
    {
     "name": "stdout",
     "output_type": "stream",
     "text": [
      "[2, 4, 6, 8]\n"
     ]
    }
   ],
   "source": [
    "print(my_list[2:-1:2]) # default is one"
   ]
  },
  {
   "cell_type": "code",
   "execution_count": 12,
   "id": "ead6daab",
   "metadata": {},
   "outputs": [
    {
     "name": "stdout",
     "output_type": "stream",
     "text": [
      "[9, 8, 7, 6, 5, 4, 3]\n"
     ]
    }
   ],
   "source": [
    "# can do a -ve step too\n",
    "print(my_list[-1:2:-1])"
   ]
  },
  {
   "cell_type": "code",
   "execution_count": 13,
   "id": "4527d05c",
   "metadata": {},
   "outputs": [
    {
     "name": "stdout",
     "output_type": "stream",
     "text": [
      "[9, 8, 7, 6, 5, 4, 3, 2, 1, 0]\n"
     ]
    }
   ],
   "source": [
    "#entire list reversed\n",
    "\n",
    "print(my_list[::-1])"
   ]
  },
  {
   "cell_type": "markdown",
   "id": "7a0fae5c",
   "metadata": {},
   "source": [
    "## Slicing Strings"
   ]
  },
  {
   "cell_type": "code",
   "execution_count": 15,
   "id": "2ec84387",
   "metadata": {},
   "outputs": [
    {
     "name": "stdout",
     "output_type": "stream",
     "text": [
      "http://learnPython.com\n"
     ]
    }
   ],
   "source": [
    "sample_url = 'http://learnPython.com'\n",
    "print(sample_url)"
   ]
  },
  {
   "cell_type": "code",
   "execution_count": 17,
   "id": "3879ba76",
   "metadata": {},
   "outputs": [
    {
     "name": "stdout",
     "output_type": "stream",
     "text": [
      "moc.nohtyPnrael//:ptth\n"
     ]
    }
   ],
   "source": [
    "# Reverse url\n",
    "print(sample_url[::-1])"
   ]
  },
  {
   "cell_type": "code",
   "execution_count": 19,
   "id": "b24a46d2",
   "metadata": {},
   "outputs": [
    {
     "name": "stdout",
     "output_type": "stream",
     "text": [
      ".com\n"
     ]
    }
   ],
   "source": [
    "# get the top level domain\n",
    "print(sample_url[-4:])"
   ]
  },
  {
   "cell_type": "code",
   "execution_count": 21,
   "id": "843e326e",
   "metadata": {},
   "outputs": [
    {
     "name": "stdout",
     "output_type": "stream",
     "text": [
      "learnPython.com\n"
     ]
    }
   ],
   "source": [
    "# print the url without the http://\n",
    "print(sample_url[7:])"
   ]
  },
  {
   "cell_type": "code",
   "execution_count": 22,
   "id": "25240843",
   "metadata": {},
   "outputs": [
    {
     "name": "stdout",
     "output_type": "stream",
     "text": [
      "learnPython\n"
     ]
    }
   ],
   "source": [
    "# Print the url without the http:// or the top level domain\n",
    "print(sample_url[7:-4])"
   ]
  },
  {
   "cell_type": "code",
   "execution_count": null,
   "id": "ad434a59",
   "metadata": {},
   "outputs": [],
   "source": []
  }
 ],
 "metadata": {
  "kernelspec": {
   "display_name": "Python 3 (ipykernel)",
   "language": "python",
   "name": "python3"
  },
  "language_info": {
   "codemirror_mode": {
    "name": "ipython",
    "version": 3
   },
   "file_extension": ".py",
   "mimetype": "text/x-python",
   "name": "python",
   "nbconvert_exporter": "python",
   "pygments_lexer": "ipython3",
   "version": "3.11.4"
  }
 },
 "nbformat": 4,
 "nbformat_minor": 5
}
