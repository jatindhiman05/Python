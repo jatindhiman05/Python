{
 "cells": [
  {
   "cell_type": "code",
   "execution_count": 1,
   "id": "fa239422-bd46-41f3-a237-161d6124c43c",
   "metadata": {},
   "outputs": [],
   "source": [
    "my_list = [0, 1, 2, 3, 4, 5, 6, 7, 8, 9]\n",
    "#          0, 1, 2, 3, 4, 5, 6, 7, 8, 9  \n",
    "#        -10,-9,-8,-7,-6,-5,-4,-3,-2,-1   => negative indices\n",
    "\n",
    "# list[start:end:step]"
   ]
  },
  {
   "cell_type": "code",
   "execution_count": 2,
   "id": "4f78d022-b0a8-4b8d-89d8-13403c44ad2c",
   "metadata": {},
   "outputs": [
    {
     "name": "stdout",
     "output_type": "stream",
     "text": [
      "[0, 1, 2, 3, 4, 5, 6, 7, 8, 9]\n"
     ]
    }
   ],
   "source": [
    "print(my_list)"
   ]
  },
  {
   "cell_type": "markdown",
   "id": "ae3275b4-128e-461f-aa3f-82798c88aac4",
   "metadata": {},
   "source": [
    "**How to Extract Individual Elements from list ?** "
   ]
  },
  {
   "cell_type": "code",
   "execution_count": 4,
   "id": "d2fe6d93-ba39-416a-aee8-540ffd1e46cc",
   "metadata": {},
   "outputs": [
    {
     "name": "stdout",
     "output_type": "stream",
     "text": [
      "4\n"
     ]
    }
   ],
   "source": [
    "print(my_list[4])"
   ]
  },
  {
   "cell_type": "code",
   "execution_count": 5,
   "id": "f2c87143-e96d-4069-808a-3c59377ec5fe",
   "metadata": {},
   "outputs": [
    {
     "name": "stdout",
     "output_type": "stream",
     "text": [
      "7\n"
     ]
    }
   ],
   "source": [
    "print(my_list[-3])"
   ]
  },
  {
   "cell_type": "markdown",
   "id": "fbf7ed4e-741e-4f96-9911-2f8a24780f6a",
   "metadata": {},
   "source": [
    "**How to extract a range of numbers from list ?**"
   ]
  },
  {
   "cell_type": "markdown",
   "id": "8b7c8ab5-78a7-4c1d-b41e-4188e775382d",
   "metadata": {},
   "source": [
    "list[start: end: step]"
   ]
  },
  {
   "cell_type": "code",
   "execution_count": 6,
   "id": "bba24d69-2630-4f91-88af-03538848826f",
   "metadata": {},
   "outputs": [
    {
     "name": "stdout",
     "output_type": "stream",
     "text": [
      "[0, 1, 2, 3, 4, 5]\n"
     ]
    }
   ],
   "source": [
    "print(my_list[0:6]) # end idx is non inclusive"
   ]
  },
  {
   "cell_type": "code",
   "execution_count": 7,
   "id": "aab9916f-6cc7-42b1-8345-896c3eabb173",
   "metadata": {},
   "outputs": [
    {
     "name": "stdout",
     "output_type": "stream",
     "text": [
      "[3, 4, 5, 6, 7]\n"
     ]
    }
   ],
   "source": [
    "print(my_list[3:8])"
   ]
  },
  {
   "cell_type": "code",
   "execution_count": null,
   "id": "f4cf16eb-cdcd-4c30-bd90-136750c42d6c",
   "metadata": {},
   "outputs": [],
   "source": []
  }
 ],
 "metadata": {
  "kernelspec": {
   "display_name": "Python 3 (ipykernel)",
   "language": "python",
   "name": "python3"
  },
  "language_info": {
   "codemirror_mode": {
    "name": "ipython",
    "version": 3
   },
   "file_extension": ".py",
   "mimetype": "text/x-python",
   "name": "python",
   "nbconvert_exporter": "python",
   "pygments_lexer": "ipython3",
   "version": "3.11.5"
  }
 },
 "nbformat": 4,
 "nbformat_minor": 5
}
