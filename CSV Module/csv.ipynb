{
 "cells": [
  {
   "cell_type": "markdown",
   "metadata": {},
   "source": [
    "### Comma Separated Values"
   ]
  },
  {
   "cell_type": "code",
   "execution_count": 1,
   "metadata": {},
   "outputs": [],
   "source": [
    "import csv"
   ]
  },
  {
   "cell_type": "code",
   "execution_count": 2,
   "metadata": {},
   "outputs": [
    {
     "name": "stdout",
     "output_type": "stream",
     "text": [
      "<_csv.reader object at 0x000001D7429486A0>\n"
     ]
    }
   ],
   "source": [
    "with open('names.csv','r') as csv_file:\n",
    "    csv_reader = csv.reader(csv_file)\n",
    "\n",
    "    print(csv_reader)"
   ]
  },
  {
   "cell_type": "code",
   "execution_count": 3,
   "metadata": {},
   "outputs": [
    {
     "name": "stdout",
     "output_type": "stream",
     "text": [
      "['first_name', 'last_name', 'email']\n",
      "['John', 'Doe', 'john-doe@bogusemail.com']\n",
      "['Mary', 'Smith-Robinson', 'maryjacobs@bogusemail.com']\n",
      "['Dave', 'Smith', 'davesmith@bogusemail.com']\n",
      "['Jane', 'Stuart', 'janestuart@bogusemail.com']\n",
      "['Tom', 'Wright', 'tomwright@bogusemail.com']\n",
      "['Steve', 'Robinson', 'steverobinson@bogusemail.com']\n",
      "['Nicole', 'Jacobs', 'nicolejacobs@bogusemail.com']\n",
      "['Jane', 'Wright', 'janewright@bogusemail.com']\n",
      "['Jane', 'Doe', 'janedoe@bogusemail.com']\n",
      "['Kurt', 'Wright', 'kurtwright@bogusemail.com']\n",
      "['Kurt', 'Robinson', 'kurtrobinson@bogusemail.com']\n",
      "['Jane', 'Jenkins', 'janejenkins@bogusemail.com']\n",
      "['Neil', 'Robinson', 'neilrobinson@bogusemail.com']\n",
      "['Tom', 'Patterson', 'tompatterson@bogusemail.com']\n",
      "['Sam', 'Jenkins', 'samjenkins@bogusemail.com']\n",
      "['Steve', 'Stuart', 'stevestuart@bogusemail.com']\n",
      "['Maggie', 'Patterson', 'maggiepatterson@bogusemail.com']\n",
      "['Maggie', 'Stuart', 'maggiestuart@bogusemail.com']\n",
      "['Jane', 'Doe', 'janedoe@bogusemail.com']\n",
      "['Steve', 'Patterson', 'stevepatterson@bogusemail.com']\n",
      "['Dave', 'Smith', 'davesmith@bogusemail.com']\n",
      "['Sam', 'Wilks', 'samwilks@bogusemail.com']\n",
      "['Kurt', 'Jefferson', 'kurtjefferson@bogusemail.com']\n",
      "['Sam', 'Stuart', 'samstuart@bogusemail.com']\n",
      "['Jane', 'Stuart', 'janestuart@bogusemail.com']\n",
      "['Dave', 'Davis', 'davedavis@bogusemail.com']\n",
      "['Sam', 'Patterson', 'sampatterson@bogusemail.com']\n",
      "['Tom', 'Jefferson', 'tomjefferson@bogusemail.com']\n",
      "['Jane', 'Stuart', 'janestuart@bogusemail.com']\n",
      "['Maggie', 'Jefferson', 'maggiejefferson@bogusemail.com']\n",
      "['Mary', 'Wilks', 'marywilks@bogusemail.com']\n",
      "['Neil', 'Patterson', 'neilpatterson@bogusemail.com']\n",
      "['Corey', 'Davis', 'coreydavis@bogusemail.com']\n",
      "['Steve', 'Jacobs', 'stevejacobs@bogusemail.com']\n",
      "['Jane', 'Jenkins', 'janejenkins@bogusemail.com']\n",
      "['John', 'Jacobs', 'johnjacobs@bogusemail.com']\n",
      "['Neil', 'Smith', 'neilsmith@bogusemail.com']\n",
      "['Corey', 'Wilks', 'coreywilks@bogusemail.com']\n",
      "['Corey', 'Smith', 'coreysmith@bogusemail.com']\n",
      "['Mary', 'Patterson', 'marypatterson@bogusemail.com']\n",
      "['Jane', 'Stuart', 'janestuart@bogusemail.com']\n",
      "['Travis', 'Arnold', 'travisarnold@bogusemail.com']\n",
      "['John', 'Robinson', 'johnrobinson@bogusemail.com']\n",
      "['Travis', 'Arnold', 'travisarnold@bogusemail.com']\n"
     ]
    }
   ],
   "source": [
    "# need to iterate over csv_reader\n",
    "with open('names.csv','r') as csv_file:\n",
    "    csv_reader = csv.reader(csv_file)\n",
    "\n",
    "    for line in csv_reader:\n",
    "        print(line)"
   ]
  },
  {
   "cell_type": "code",
   "execution_count": 4,
   "metadata": {},
   "outputs": [
    {
     "name": "stdout",
     "output_type": "stream",
     "text": [
      "email\n",
      "john-doe@bogusemail.com\n",
      "maryjacobs@bogusemail.com\n",
      "davesmith@bogusemail.com\n",
      "janestuart@bogusemail.com\n",
      "tomwright@bogusemail.com\n",
      "steverobinson@bogusemail.com\n",
      "nicolejacobs@bogusemail.com\n",
      "janewright@bogusemail.com\n",
      "janedoe@bogusemail.com\n",
      "kurtwright@bogusemail.com\n",
      "kurtrobinson@bogusemail.com\n",
      "janejenkins@bogusemail.com\n",
      "neilrobinson@bogusemail.com\n",
      "tompatterson@bogusemail.com\n",
      "samjenkins@bogusemail.com\n",
      "stevestuart@bogusemail.com\n",
      "maggiepatterson@bogusemail.com\n",
      "maggiestuart@bogusemail.com\n",
      "janedoe@bogusemail.com\n",
      "stevepatterson@bogusemail.com\n",
      "davesmith@bogusemail.com\n",
      "samwilks@bogusemail.com\n",
      "kurtjefferson@bogusemail.com\n",
      "samstuart@bogusemail.com\n",
      "janestuart@bogusemail.com\n",
      "davedavis@bogusemail.com\n",
      "sampatterson@bogusemail.com\n",
      "tomjefferson@bogusemail.com\n",
      "janestuart@bogusemail.com\n",
      "maggiejefferson@bogusemail.com\n",
      "marywilks@bogusemail.com\n",
      "neilpatterson@bogusemail.com\n",
      "coreydavis@bogusemail.com\n",
      "stevejacobs@bogusemail.com\n",
      "janejenkins@bogusemail.com\n",
      "johnjacobs@bogusemail.com\n",
      "neilsmith@bogusemail.com\n",
      "coreywilks@bogusemail.com\n",
      "coreysmith@bogusemail.com\n",
      "marypatterson@bogusemail.com\n",
      "janestuart@bogusemail.com\n",
      "travisarnold@bogusemail.com\n",
      "johnrobinson@bogusemail.com\n",
      "travisarnold@bogusemail.com\n"
     ]
    }
   ],
   "source": [
    "# to print out indexs\n",
    "with open('names.csv','r') as csv_file:\n",
    "    csv_reader = csv.reader(csv_file)\n",
    "\n",
    "    for line in csv_reader:\n",
    "        print(line[2])"
   ]
  },
  {
   "cell_type": "code",
   "execution_count": 5,
   "metadata": {},
   "outputs": [
    {
     "name": "stdout",
     "output_type": "stream",
     "text": [
      "john-doe@bogusemail.com\n",
      "maryjacobs@bogusemail.com\n",
      "davesmith@bogusemail.com\n",
      "janestuart@bogusemail.com\n",
      "tomwright@bogusemail.com\n",
      "steverobinson@bogusemail.com\n",
      "nicolejacobs@bogusemail.com\n",
      "janewright@bogusemail.com\n",
      "janedoe@bogusemail.com\n",
      "kurtwright@bogusemail.com\n",
      "kurtrobinson@bogusemail.com\n",
      "janejenkins@bogusemail.com\n",
      "neilrobinson@bogusemail.com\n",
      "tompatterson@bogusemail.com\n",
      "samjenkins@bogusemail.com\n",
      "stevestuart@bogusemail.com\n",
      "maggiepatterson@bogusemail.com\n",
      "maggiestuart@bogusemail.com\n",
      "janedoe@bogusemail.com\n",
      "stevepatterson@bogusemail.com\n",
      "davesmith@bogusemail.com\n",
      "samwilks@bogusemail.com\n",
      "kurtjefferson@bogusemail.com\n",
      "samstuart@bogusemail.com\n",
      "janestuart@bogusemail.com\n",
      "davedavis@bogusemail.com\n",
      "sampatterson@bogusemail.com\n",
      "tomjefferson@bogusemail.com\n",
      "janestuart@bogusemail.com\n",
      "maggiejefferson@bogusemail.com\n",
      "marywilks@bogusemail.com\n",
      "neilpatterson@bogusemail.com\n",
      "coreydavis@bogusemail.com\n",
      "stevejacobs@bogusemail.com\n",
      "janejenkins@bogusemail.com\n",
      "johnjacobs@bogusemail.com\n",
      "neilsmith@bogusemail.com\n",
      "coreywilks@bogusemail.com\n",
      "coreysmith@bogusemail.com\n",
      "marypatterson@bogusemail.com\n",
      "janestuart@bogusemail.com\n",
      "travisarnold@bogusemail.com\n",
      "johnrobinson@bogusemail.com\n",
      "travisarnold@bogusemail.com\n"
     ]
    }
   ],
   "source": [
    "with open('names.csv','r') as csv_file:\n",
    "    csv_reader = csv.reader(csv_file)\n",
    "\n",
    "    next(csv_reader) # we can actually step over value an iterable by calling next\n",
    "    \n",
    "    for line in csv_reader:\n",
    "        print(line[2])"
   ]
  },
  {
   "cell_type": "markdown",
   "metadata": {},
   "source": [
    "How to Write to csv File"
   ]
  },
  {
   "cell_type": "code",
   "execution_count": 8,
   "metadata": {},
   "outputs": [],
   "source": [
    "with open('names.csv','r') as csv_file:\n",
    "    csv_reader = csv.reader(csv_file)\n",
    "\n",
    "    with open('new_names.csv','w') as new_file:\n",
    "        csv_writer = csv.writer(new_file,delimiter='-')\n",
    "    \n",
    "        for line in csv_reader:\n",
    "            csv_writer.writerow(line)"
   ]
  },
  {
   "cell_type": "code",
   "execution_count": 9,
   "metadata": {},
   "outputs": [],
   "source": [
    "with open('names.csv','r') as csv_file:\n",
    "    csv_reader = csv.reader(csv_file)\n",
    "\n",
    "    with open('new_names.csv','w') as new_file:\n",
    "        csv_writer = csv.writer(new_file,delimiter='\\t')\n",
    "    \n",
    "        for line in csv_reader:\n",
    "            csv_writer.writerow(line)"
   ]
  },
  {
   "cell_type": "markdown",
   "metadata": {},
   "source": [
    "Reading a CSV file with a wrong delimiter"
   ]
  },
  {
   "cell_type": "code",
   "execution_count": 13,
   "metadata": {},
   "outputs": [
    {
     "name": "stdout",
     "output_type": "stream",
     "text": [
      "['first_name', 'last_name', 'email']\n",
      "[]\n",
      "['John', 'Doe', 'john-doe@bogusemail.com']\n",
      "[]\n",
      "['Mary', 'Smith-Robinson', 'maryjacobs@bogusemail.com']\n",
      "[]\n",
      "['Dave', 'Smith', 'davesmith@bogusemail.com']\n",
      "[]\n",
      "['Jane', 'Stuart', 'janestuart@bogusemail.com']\n",
      "[]\n",
      "['Tom', 'Wright', 'tomwright@bogusemail.com']\n",
      "[]\n",
      "['Steve', 'Robinson', 'steverobinson@bogusemail.com']\n",
      "[]\n",
      "['Nicole', 'Jacobs', 'nicolejacobs@bogusemail.com']\n",
      "[]\n",
      "['Jane', 'Wright', 'janewright@bogusemail.com']\n",
      "[]\n",
      "['Jane', 'Doe', 'janedoe@bogusemail.com']\n",
      "[]\n",
      "['Kurt', 'Wright', 'kurtwright@bogusemail.com']\n",
      "[]\n",
      "['Kurt', 'Robinson', 'kurtrobinson@bogusemail.com']\n",
      "[]\n",
      "['Jane', 'Jenkins', 'janejenkins@bogusemail.com']\n",
      "[]\n",
      "['Neil', 'Robinson', 'neilrobinson@bogusemail.com']\n",
      "[]\n",
      "['Tom', 'Patterson', 'tompatterson@bogusemail.com']\n",
      "[]\n",
      "['Sam', 'Jenkins', 'samjenkins@bogusemail.com']\n",
      "[]\n",
      "['Steve', 'Stuart', 'stevestuart@bogusemail.com']\n",
      "[]\n",
      "['Maggie', 'Patterson', 'maggiepatterson@bogusemail.com']\n",
      "[]\n",
      "['Maggie', 'Stuart', 'maggiestuart@bogusemail.com']\n",
      "[]\n",
      "['Jane', 'Doe', 'janedoe@bogusemail.com']\n",
      "[]\n",
      "['Steve', 'Patterson', 'stevepatterson@bogusemail.com']\n",
      "[]\n",
      "['Dave', 'Smith', 'davesmith@bogusemail.com']\n",
      "[]\n",
      "['Sam', 'Wilks', 'samwilks@bogusemail.com']\n",
      "[]\n",
      "['Kurt', 'Jefferson', 'kurtjefferson@bogusemail.com']\n",
      "[]\n",
      "['Sam', 'Stuart', 'samstuart@bogusemail.com']\n",
      "[]\n",
      "['Jane', 'Stuart', 'janestuart@bogusemail.com']\n",
      "[]\n",
      "['Dave', 'Davis', 'davedavis@bogusemail.com']\n",
      "[]\n",
      "['Sam', 'Patterson', 'sampatterson@bogusemail.com']\n",
      "[]\n",
      "['Tom', 'Jefferson', 'tomjefferson@bogusemail.com']\n",
      "[]\n",
      "['Jane', 'Stuart', 'janestuart@bogusemail.com']\n",
      "[]\n",
      "['Maggie', 'Jefferson', 'maggiejefferson@bogusemail.com']\n",
      "[]\n",
      "['Mary', 'Wilks', 'marywilks@bogusemail.com']\n",
      "[]\n",
      "['Neil', 'Patterson', 'neilpatterson@bogusemail.com']\n",
      "[]\n",
      "['Corey', 'Davis', 'coreydavis@bogusemail.com']\n",
      "[]\n",
      "['Steve', 'Jacobs', 'stevejacobs@bogusemail.com']\n",
      "[]\n",
      "['Jane', 'Jenkins', 'janejenkins@bogusemail.com']\n",
      "[]\n",
      "['John', 'Jacobs', 'johnjacobs@bogusemail.com']\n",
      "[]\n",
      "['Neil', 'Smith', 'neilsmith@bogusemail.com']\n",
      "[]\n",
      "['Corey', 'Wilks', 'coreywilks@bogusemail.com']\n",
      "[]\n",
      "['Corey', 'Smith', 'coreysmith@bogusemail.com']\n",
      "[]\n",
      "['Mary', 'Patterson', 'marypatterson@bogusemail.com']\n",
      "[]\n",
      "['Jane', 'Stuart', 'janestuart@bogusemail.com']\n",
      "[]\n",
      "['Travis', 'Arnold', 'travisarnold@bogusemail.com']\n",
      "[]\n",
      "['John', 'Robinson', 'johnrobinson@bogusemail.com']\n",
      "[]\n",
      "['Travis', 'Arnold', 'travisarnold@bogusemail.com']\n",
      "[]\n"
     ]
    }
   ],
   "source": [
    "with open('new_names.csv','r') as csv_file:\n",
    "    csv_reader = csv.reader(csv_file,delimiter='\\t')\n",
    "\n",
    "    for line in csv_reader:\n",
    "        print(line)"
   ]
  },
  {
   "cell_type": "markdown",
   "metadata": {},
   "source": [
    "Dictionary Reader and Dictionary Writer"
   ]
  },
  {
   "cell_type": "code",
   "execution_count": 14,
   "metadata": {},
   "outputs": [
    {
     "name": "stdout",
     "output_type": "stream",
     "text": [
      "{'first_name': 'John', 'last_name': 'Doe', 'email': 'john-doe@bogusemail.com'}\n",
      "{'first_name': 'Mary', 'last_name': 'Smith-Robinson', 'email': 'maryjacobs@bogusemail.com'}\n",
      "{'first_name': 'Dave', 'last_name': 'Smith', 'email': 'davesmith@bogusemail.com'}\n",
      "{'first_name': 'Jane', 'last_name': 'Stuart', 'email': 'janestuart@bogusemail.com'}\n",
      "{'first_name': 'Tom', 'last_name': 'Wright', 'email': 'tomwright@bogusemail.com'}\n",
      "{'first_name': 'Steve', 'last_name': 'Robinson', 'email': 'steverobinson@bogusemail.com'}\n",
      "{'first_name': 'Nicole', 'last_name': 'Jacobs', 'email': 'nicolejacobs@bogusemail.com'}\n",
      "{'first_name': 'Jane', 'last_name': 'Wright', 'email': 'janewright@bogusemail.com'}\n",
      "{'first_name': 'Jane', 'last_name': 'Doe', 'email': 'janedoe@bogusemail.com'}\n",
      "{'first_name': 'Kurt', 'last_name': 'Wright', 'email': 'kurtwright@bogusemail.com'}\n",
      "{'first_name': 'Kurt', 'last_name': 'Robinson', 'email': 'kurtrobinson@bogusemail.com'}\n",
      "{'first_name': 'Jane', 'last_name': 'Jenkins', 'email': 'janejenkins@bogusemail.com'}\n",
      "{'first_name': 'Neil', 'last_name': 'Robinson', 'email': 'neilrobinson@bogusemail.com'}\n",
      "{'first_name': 'Tom', 'last_name': 'Patterson', 'email': 'tompatterson@bogusemail.com'}\n",
      "{'first_name': 'Sam', 'last_name': 'Jenkins', 'email': 'samjenkins@bogusemail.com'}\n",
      "{'first_name': 'Steve', 'last_name': 'Stuart', 'email': 'stevestuart@bogusemail.com'}\n",
      "{'first_name': 'Maggie', 'last_name': 'Patterson', 'email': 'maggiepatterson@bogusemail.com'}\n",
      "{'first_name': 'Maggie', 'last_name': 'Stuart', 'email': 'maggiestuart@bogusemail.com'}\n",
      "{'first_name': 'Jane', 'last_name': 'Doe', 'email': 'janedoe@bogusemail.com'}\n",
      "{'first_name': 'Steve', 'last_name': 'Patterson', 'email': 'stevepatterson@bogusemail.com'}\n",
      "{'first_name': 'Dave', 'last_name': 'Smith', 'email': 'davesmith@bogusemail.com'}\n",
      "{'first_name': 'Sam', 'last_name': 'Wilks', 'email': 'samwilks@bogusemail.com'}\n",
      "{'first_name': 'Kurt', 'last_name': 'Jefferson', 'email': 'kurtjefferson@bogusemail.com'}\n",
      "{'first_name': 'Sam', 'last_name': 'Stuart', 'email': 'samstuart@bogusemail.com'}\n",
      "{'first_name': 'Jane', 'last_name': 'Stuart', 'email': 'janestuart@bogusemail.com'}\n",
      "{'first_name': 'Dave', 'last_name': 'Davis', 'email': 'davedavis@bogusemail.com'}\n",
      "{'first_name': 'Sam', 'last_name': 'Patterson', 'email': 'sampatterson@bogusemail.com'}\n",
      "{'first_name': 'Tom', 'last_name': 'Jefferson', 'email': 'tomjefferson@bogusemail.com'}\n",
      "{'first_name': 'Jane', 'last_name': 'Stuart', 'email': 'janestuart@bogusemail.com'}\n",
      "{'first_name': 'Maggie', 'last_name': 'Jefferson', 'email': 'maggiejefferson@bogusemail.com'}\n",
      "{'first_name': 'Mary', 'last_name': 'Wilks', 'email': 'marywilks@bogusemail.com'}\n",
      "{'first_name': 'Neil', 'last_name': 'Patterson', 'email': 'neilpatterson@bogusemail.com'}\n",
      "{'first_name': 'Corey', 'last_name': 'Davis', 'email': 'coreydavis@bogusemail.com'}\n",
      "{'first_name': 'Steve', 'last_name': 'Jacobs', 'email': 'stevejacobs@bogusemail.com'}\n",
      "{'first_name': 'Jane', 'last_name': 'Jenkins', 'email': 'janejenkins@bogusemail.com'}\n",
      "{'first_name': 'John', 'last_name': 'Jacobs', 'email': 'johnjacobs@bogusemail.com'}\n",
      "{'first_name': 'Neil', 'last_name': 'Smith', 'email': 'neilsmith@bogusemail.com'}\n",
      "{'first_name': 'Corey', 'last_name': 'Wilks', 'email': 'coreywilks@bogusemail.com'}\n",
      "{'first_name': 'Corey', 'last_name': 'Smith', 'email': 'coreysmith@bogusemail.com'}\n",
      "{'first_name': 'Mary', 'last_name': 'Patterson', 'email': 'marypatterson@bogusemail.com'}\n",
      "{'first_name': 'Jane', 'last_name': 'Stuart', 'email': 'janestuart@bogusemail.com'}\n",
      "{'first_name': 'Travis', 'last_name': 'Arnold', 'email': 'travisarnold@bogusemail.com'}\n",
      "{'first_name': 'John', 'last_name': 'Robinson', 'email': 'johnrobinson@bogusemail.com'}\n",
      "{'first_name': 'Travis', 'last_name': 'Arnold', 'email': 'travisarnold@bogusemail.com'}\n"
     ]
    }
   ],
   "source": [
    "with open('names.csv','r') as csv_file:\n",
    "    csv_reader = csv.DictReader(csv_file)\n",
    "\n",
    "    for line in csv_reader:\n",
    "        print(line)"
   ]
  },
  {
   "cell_type": "code",
   "execution_count": 15,
   "metadata": {},
   "outputs": [
    {
     "name": "stdout",
     "output_type": "stream",
     "text": [
      "john-doe@bogusemail.com\n",
      "maryjacobs@bogusemail.com\n",
      "davesmith@bogusemail.com\n",
      "janestuart@bogusemail.com\n",
      "tomwright@bogusemail.com\n",
      "steverobinson@bogusemail.com\n",
      "nicolejacobs@bogusemail.com\n",
      "janewright@bogusemail.com\n",
      "janedoe@bogusemail.com\n",
      "kurtwright@bogusemail.com\n",
      "kurtrobinson@bogusemail.com\n",
      "janejenkins@bogusemail.com\n",
      "neilrobinson@bogusemail.com\n",
      "tompatterson@bogusemail.com\n",
      "samjenkins@bogusemail.com\n",
      "stevestuart@bogusemail.com\n",
      "maggiepatterson@bogusemail.com\n",
      "maggiestuart@bogusemail.com\n",
      "janedoe@bogusemail.com\n",
      "stevepatterson@bogusemail.com\n",
      "davesmith@bogusemail.com\n",
      "samwilks@bogusemail.com\n",
      "kurtjefferson@bogusemail.com\n",
      "samstuart@bogusemail.com\n",
      "janestuart@bogusemail.com\n",
      "davedavis@bogusemail.com\n",
      "sampatterson@bogusemail.com\n",
      "tomjefferson@bogusemail.com\n",
      "janestuart@bogusemail.com\n",
      "maggiejefferson@bogusemail.com\n",
      "marywilks@bogusemail.com\n",
      "neilpatterson@bogusemail.com\n",
      "coreydavis@bogusemail.com\n",
      "stevejacobs@bogusemail.com\n",
      "janejenkins@bogusemail.com\n",
      "johnjacobs@bogusemail.com\n",
      "neilsmith@bogusemail.com\n",
      "coreywilks@bogusemail.com\n",
      "coreysmith@bogusemail.com\n",
      "marypatterson@bogusemail.com\n",
      "janestuart@bogusemail.com\n",
      "travisarnold@bogusemail.com\n",
      "johnrobinson@bogusemail.com\n",
      "travisarnold@bogusemail.com\n"
     ]
    }
   ],
   "source": [
    "with open('names.csv','r') as csv_file:\n",
    "    csv_reader = csv.DictReader(csv_file)\n",
    "\n",
    "    for line in csv_reader:\n",
    "        print(line['email'])"
   ]
  },
  {
   "cell_type": "code",
   "execution_count": 19,
   "metadata": {},
   "outputs": [],
   "source": [
    "with open('names.csv','r') as csv_file:\n",
    "    csv_reader = csv.DictReader(csv_file)\n",
    "\n",
    "    with open('new_names2.csv','w') as new_file:\n",
    "        fieldnames = ['first_name','last_name','email']\n",
    "\n",
    "        csv_writer = csv.DictWriter(new_file,fieldnames=fieldnames,delimiter='\\t')\n",
    "\n",
    "        csv_writer.writeheader()\n",
    "\n",
    "        for line in csv_reader:\n",
    "            csv_writer.writerow(line)"
   ]
  },
  {
   "cell_type": "code",
   "execution_count": 21,
   "metadata": {},
   "outputs": [],
   "source": [
    "# Deleting a column is simole in this\n",
    "with open('names.csv','r') as csv_file:\n",
    "    csv_reader = csv.DictReader(csv_file)\n",
    "\n",
    "    with open('new_names3.csv','w') as new_file:\n",
    "        fieldnames = ['first_name','last_name']\n",
    "\n",
    "        csv_writer = csv.DictWriter(new_file,fieldnames=fieldnames,delimiter='\\t')\n",
    "\n",
    "        csv_writer.writeheader()\n",
    "\n",
    "        for line in csv_reader:\n",
    "            del line['email']\n",
    "            csv_writer.writerow(line)"
   ]
  }
 ],
 "metadata": {
  "kernelspec": {
   "display_name": "Python 3",
   "language": "python",
   "name": "python3"
  },
  "language_info": {
   "codemirror_mode": {
    "name": "ipython",
    "version": 3
   },
   "file_extension": ".py",
   "mimetype": "text/x-python",
   "name": "python",
   "nbconvert_exporter": "python",
   "pygments_lexer": "ipython3",
   "version": "3.11.4"
  }
 },
 "nbformat": 4,
 "nbformat_minor": 2
}
